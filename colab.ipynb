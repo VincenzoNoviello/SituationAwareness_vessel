{
 "metadata": {
  "language_info": {
   "codemirror_mode": {
    "name": "ipython",
    "version": 3
   },
   "file_extension": ".py",
   "mimetype": "text/x-python",
   "name": "python",
   "nbconvert_exporter": "python",
   "pygments_lexer": "ipython3",
   "version": "3.9.5"
  },
  "orig_nbformat": 2,
  "kernelspec": {
   "name": "python395jvsc74a57bd00449edab777f5c499a47cead1fef199c3c2c22176eaf586b1c33a58cfb1d0907",
   "display_name": "Python 3.9.5 64-bit (windows store)"
  },
  "metadata": {
   "interpreter": {
    "hash": "0449edab777f5c499a47cead1fef199c3c2c22176eaf586b1c33a58cfb1d0907"
   }
  }
 },
 "nbformat": 4,
 "nbformat_minor": 2,
 "cells": [
  {
   "cell_type": "code",
   "execution_count": 1,
   "metadata": {},
   "outputs": [],
   "source": [
    "#Import useful libraries\n",
    "import pandas as pd\n",
    "import datetime\n",
    "import matplotlib.pyplot as plt"
   ]
  },
  {
   "cell_type": "code",
   "execution_count": 3,
   "metadata": {},
   "outputs": [],
   "source": [
    "#load dataset used for analysis\n",
    "dtypes = {\"id\":'str',\"timestamp\":'str',\"longitude\":'float',\"latitude\":'float',\"annotation\":'str',\"speed\":'float',\"heading\":'str',\"shiptype\":'str'}\n",
    "data_or = pd.read_csv(\"ais_brest_synopses.csv\",usecols=[\"id\",\"timestamp\",\"longitude\",\"latitude\",\"annotation\",\"speed\",\"heading\"],dtype=dtypes)\n",
    "dtypes_ships = {\"id\":'str',\"shiptype\":'str'}\n",
    "data_ships = pd.read_csv(\"ship_list.csv\",usecols=[\"id\",\"shiptype\"],dtype=dtypes_ships,sep=';')"
   ]
  },
  {
   "cell_type": "code",
   "execution_count": null,
   "metadata": {},
   "outputs": [],
   "source": [
    "#Aggiunta Prorietà FISHING ad un messaggio di una nave da pesca\r\n",
    "data_out = pd.merge(data,data_ships,on='id',how='left').fillna(\"none\")"
   ]
  },
  {
   "cell_type": "code",
   "execution_count": 9,
   "metadata": {},
   "outputs": [],
   "source": [
    "#Export csv\n",
    "data.to_csv(\"ais_data_type.csv\",sep=',',index=False)"
   ]
  },
  {
   "cell_type": "code",
   "execution_count": null,
   "metadata": {},
   "outputs": [],
   "source": [
    "#Counting Base Annotation\n",
    "annotation_simple_dict = {\n",
    "    \"10000000\": 0,\n",
    "    \"01000000\": 0,\n",
    "    \"00100000\": 0,\n",
    "    \"00010000\": 0,\n",
    "    \"00001000\": 0,\n",
    "    \"00000100\": 0,\n",
    "    \"00000010\": 0,\n",
    "    \"00000001\": 0\n",
    "}\n",
    "#Count type of Annotation\n",
    "most_frequent=data[\"annotation\"].value_counts()\n",
    "\n",
    "#Convert to dict\n",
    "most_dict=most_frequent.to_dict()\n",
    "list_value = list(most_dict.values())\n",
    "#Count single annotation\n",
    "j = 0\n",
    "for key in most_dict.keys():\n",
    "    i = 0\n",
    "    for element in key:\n",
    "        if element == '1':\n",
    "            list_key = list(annotation_simple_dict.keys())\n",
    "            annotation_simple_dict[list_key[i]] += list_value[j]\n",
    "        i += 1\n",
    "    j += 1  \n",
    "annotation_simple_dict"
   ]
  },
  {
   "cell_type": "code",
   "execution_count": null,
   "metadata": {},
   "outputs": [],
   "source": [
    "#ANNOTATION BASE\n",
    "#Counting Annotation base\n",
    "plt.bar(x=annotation_simple_dict.keys(),height=list(annotation_simple_dict.values()))\n",
    "plt.xticks(rotation=90)\n",
    "plt.show()"
   ]
  },
  {
   "cell_type": "code",
   "execution_count": null,
   "metadata": {},
   "outputs": [],
   "source": [
    "data['timestamp'] = pd.to_datetime(data['timestamp'], unit='ms')\n",
    "data['month'] = pd.DatetimeIndex(data['timestamp']).month\n",
    "data['year'] = pd.DatetimeIndex(data['timestamp']).year\n",
    "data.head(5)"
   ]
  },
  {
   "cell_type": "code",
   "execution_count": null,
   "metadata": {},
   "outputs": [],
   "source": [
    "result=data[data['id']==\"228133000\"]\n",
    "result"
   ]
  },
  {
   "cell_type": "code",
   "execution_count": null,
   "metadata": {},
   "outputs": [],
   "source": [
    "#COUNT EVENT for each Month\n",
    "#month_analysis= data[['annotation', 'month','year']].groupby(['month'])['annotation'].count().reset_index(name='count_annotation')\n",
    "month_analysis= data[['annotation', 'month','year']].groupby(['month','year']).agg('count')\n",
    "month_analysis\n",
    "month_analysis.plot(xlabel='month,year',kind='bar',width=0.8)"
   ]
  },
  {
   "cell_type": "code",
   "execution_count": null,
   "metadata": {},
   "outputs": [],
   "source": [
    "#COUNT EACH ANNOTATION FOR EACH MONTH\n",
    "#month_analysis_annotation= data[['annotation','month']].groupby(['month']).agg(['annotation']).reset_index(name='count')\n",
    "month_analysis_annotation=data.groupby(['month','annotation'])['annotation'].count().reset_index(name='count')\n",
    "month_analysis_annotation\n",
    "for i in range(1,13):\n",
    "    name=\"month \"+str(i)\n",
    "    plt.figure()\n",
    "    plt.title(name)\n",
    "    df_monthly = month_analysis_annotation[month_analysis_annotation['month'] == i] # select dataframe with month = i\n",
    "    plt.bar(df_monthly['annotation'], df_monthly['count'])\n",
    "    plt.xticks(df_monthly['annotation'].unique(),rotation=90) # set x axis \n",
    "#month_analysis_annotation.plot.bar(xlabel=['annotation'],subplots=True,)"
   ]
  },
  {
   "cell_type": "code",
   "execution_count": null,
   "metadata": {},
   "outputs": [],
   "source": [
    "#GAP ANALYSIS ANNOTATION\n",
    "#month_analysis_annotation= data[['annotation','month']].groupby(['month']).agg(['annotation']).reset_index(name='count')\n",
    "gap_analysis =data.query('annotation == \"00010000\"')\n",
    "gap_analysis_annotation=gap_analysis.groupby(['month','id'])['annotation'].count().reset_index(name='count')\n",
    "gap_analysis_annotation= gap_analysis_annotation.query('count >= 50')\n",
    "\n",
    "for i in range(1,13):\n",
    "    name=\"month \"+str(i)\n",
    "    plt.figure()\n",
    "    plt.title(name)\n",
    "    df_monthly = gap_analysis_annotation[gap_analysis_annotation['month'] == i] # select dataframe with month = i\n",
    "    plt.bar(df_monthly['id'], df_monthly['count'])\n",
    "    plt.xticks(df_monthly['id'].unique(),rotation=90) # set x axis \n",
    "#month_analysis_annotation.plot.bar(xlabel=['annotation'],subplots=True,)"
   ]
  },
  {
   "cell_type": "code",
   "execution_count": null,
   "metadata": {},
   "outputs": [],
   "source": []
  },
  {
   "cell_type": "code",
   "execution_count": null,
   "metadata": {},
   "outputs": [],
   "source": [
    "#EVALUATE OF maritime traffic in a certain area evaluated for every month included in dataset\n",
    "\n",
    "traffic= data[['month','year','longitude','latitude']].query('longitude >= -4.46 and longitude <=-4.44 and latitude >= 48 and latitude <=48.15').groupby(['month','year'])['month'].agg('count')\n",
    "traffic\n",
    "traffic.plot(x='month,year',kind='bar',width=0.8)"
   ]
  },
  {
   "cell_type": "code",
   "execution_count": null,
   "metadata": {},
   "outputs": [],
   "source": [
    "#EVALUATE OF maritime traffic in a certain area evaluated for every month included in dataset\n",
    "#gap_analysis =data[data['annotation'].str.contains(\"^(?:001|011|101|111)\")]\n",
    "heading_change = data[data.annotation.str.startswith(('001','011','101','111'), na=False)]\n",
    "#heading_change = data[data.annotation.str.startswith(('001'), na=False)]\n",
    "Trawling_movement= heading_change.query('longitude >= -4.879198 and longitude <=-4.545699 and latitude >= 48.044979 and latitude <=48.335456')"
   ]
  },
  {
   "cell_type": "code",
   "execution_count": null,
   "metadata": {},
   "outputs": [],
   "source": [
    "Trawling_movement.head(100)\n",
    "Trawling_result=Trawling_movement[Trawling_movement['id']==\"228854000\"]\n",
    "#Trawling_result[Trawling_result['timestamp']==\"1443655028000\"]\n"
   ]
  },
  {
   "cell_type": "code",
   "execution_count": null,
   "metadata": {},
   "outputs": [],
   "source": [
    "Trawling_total = Trawling_movement.query('speed>=1.00 and speed <=9.00')"
   ]
  },
  {
   "cell_type": "code",
   "execution_count": null,
   "metadata": {},
   "outputs": [],
   "source": [
    "Trawling_count =Trawling_total.groupby(data['id']).size() "
   ]
  },
  {
   "cell_type": "code",
   "execution_count": null,
   "metadata": {},
   "outputs": [],
   "source": [
    "Trawling_count.head(100)\n"
   ]
  }
 ]
}
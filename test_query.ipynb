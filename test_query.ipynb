{
 "metadata": {
  "language_info": {
   "codemirror_mode": {
    "name": "ipython",
    "version": 3
   },
   "file_extension": ".py",
   "mimetype": "text/x-python",
   "name": "python",
   "nbconvert_exporter": "python",
   "pygments_lexer": "ipython3",
   "version": 3
  },
  "orig_nbformat": 2
 },
 "nbformat": 4,
 "nbformat_minor": 2,
 "cells": [
  {
   "cell_type": "code",
   "execution_count": null,
   "metadata": {},
   "outputs": [],
   "source": [
    "import csv\n",
    "import pdb\n",
    "from Annotation import AnnotationManager, MonthAnnotation\n",
    "import datetime\n",
    "import matplotlib.pyplot as plt\n",
    "\n",
    "start_date_october2015 = 1443657600000\n",
    "delta_t_day = 86400000\n"
   ]
  },
  {
   "cell_type": "code",
   "execution_count": null,
   "metadata": {},
   "outputs": [],
   "source": [
    "reader = csv.DictReader(open(\"ais_brest_synopses.csv\"))\n",
    "manager = AnnotationManager()\n",
    "print(\"sono qui\")\n",
    "for row in reader:\n",
    "    manager.insert_annotation(int(row['timestamp']), row['annotation'])\n",
    "\n",
    "octo_annotations = manager.octo.count_base_annotations()\n",
    "nov_annotations = manager.nov.count_base_annotations()\n",
    "dec_annotations = manager.dec.count_base_annotations()\n",
    "jan_annotations = manager.jan.count_base_annotations()\n",
    "feb_annotations = manager.feb.count_base_annotations()\n",
    "mar_annotations = manager.mar.count_base_annotations()\n"
   ]
  },
  {
   "cell_type": "code",
   "execution_count": null,
   "metadata": {},
   "outputs": [],
   "source": [
    "\n",
    "print(sum(manager.octo.month_annotations.values()))\n",
    "print(sum(octo_annotations.values()))\n",
    "\n",
    "print(sum(manager.nov.month_annotations.values()))\n",
    "print(sum(nov_annotations.values()))\n",
    "\n",
    "print(sum(manager.dec.month_annotations.values()))\n",
    "print(sum(dec_annotations.values()))\n",
    "\n",
    "print(sum(manager.jan.month_annotations.values()))\n",
    "print(sum(jan_annotations.values()))\n",
    "\n",
    "print(sum(manager.feb.month_annotations.values()))\n",
    "print(sum(feb_annotations.values()))\n",
    "\n",
    "print(sum(manager.mar.month_annotations.values()))\n",
    "print(sum(mar_annotations.values()))\n",
    "\n",
    "print(manager.sum_months_annotations().values())\n"
   ]
  },
  {
   "cell_type": "code",
   "execution_count": null,
   "metadata": {},
   "outputs": [],
   "source": [
    "plt.figure(1)\n",
    "plt.bar(manager.sum_annotations.keys(), manager.sum_annotations.values(), width=0.8)\n",
    "plt.show()\n",
    "# plt.plot(list(manager.sum_annotations.keys()), list(manager.sum_annotations.values()))"
   ]
  }
 ]
}